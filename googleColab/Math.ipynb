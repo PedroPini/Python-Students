{
  "nbformat": 4,
  "nbformat_minor": 0,
  "metadata": {
    "colab": {
      "provenance": []
    },
    "kernelspec": {
      "name": "python3",
      "display_name": "Python 3"
    },
    "language_info": {
      "name": "python"
    }
  },
  "cells": [
    {
      "cell_type": "markdown",
      "source": [
        "# Mathematics in Machine Learning"
      ],
      "metadata": {
        "id": "BkKfdmUZo4nX"
      }
    },
    {
      "cell_type": "markdown",
      "source": [
        "# Pip install Spicy"
      ],
      "metadata": {
        "id": "dibcdn-upe5Q"
      }
    },
    {
      "cell_type": "code",
      "source": [
        "%pip install spicy"
      ],
      "metadata": {
        "colab": {
          "base_uri": "https://localhost:8080/"
        },
        "id": "UkWC_LpnpiXW",
        "outputId": "aa50d201-79cb-4aa0-d274-4f2593b4ec86"
      },
      "execution_count": null,
      "outputs": [
        {
          "output_type": "stream",
          "name": "stdout",
          "text": [
            "Collecting spicy\n",
            "  Downloading spicy-0.16.0-py2.py3-none-any.whl.metadata (310 bytes)\n",
            "Requirement already satisfied: scipy in /usr/local/lib/python3.11/dist-packages (from spicy) (1.15.3)\n",
            "Requirement already satisfied: numpy<2.5,>=1.23.5 in /usr/local/lib/python3.11/dist-packages (from scipy->spicy) (2.0.2)\n",
            "Downloading spicy-0.16.0-py2.py3-none-any.whl (1.7 kB)\n",
            "Installing collected packages: spicy\n",
            "Successfully installed spicy-0.16.0\n"
          ]
        }
      ]
    },
    {
      "cell_type": "markdown",
      "source": [
        "# Imports"
      ],
      "metadata": {
        "id": "3b8kmIkQo-3-"
      }
    },
    {
      "cell_type": "code",
      "execution_count": null,
      "metadata": {
        "id": "JcoWwS6doy5p"
      },
      "outputs": [],
      "source": [
        "import numpy as np\n",
        "from scipy import stats"
      ]
    },
    {
      "cell_type": "markdown",
      "source": [
        "# Creating a list of numbers"
      ],
      "metadata": {
        "id": "iAMUvtsDpxPm"
      }
    },
    {
      "cell_type": "code",
      "source": [
        "numbers = [5, 10, 30, 15, 20, 10]"
      ],
      "metadata": {
        "id": "1eH2udWGp0p9"
      },
      "execution_count": null,
      "outputs": []
    },
    {
      "cell_type": "markdown",
      "source": [
        "# Mean (Average)"
      ],
      "metadata": {
        "id": "0BKe5DFxp-MG"
      }
    },
    {
      "cell_type": "code",
      "source": [
        "mean = np.mean(numbers)\n",
        "print(mean)"
      ],
      "metadata": {
        "colab": {
          "base_uri": "https://localhost:8080/"
        },
        "id": "Wfp158OpqA4-",
        "outputId": "278a2cf9-89d0-4bdd-f260-a29108302aed"
      },
      "execution_count": null,
      "outputs": [
        {
          "output_type": "stream",
          "name": "stdout",
          "text": [
            "15.0\n"
          ]
        }
      ]
    },
    {
      "cell_type": "markdown",
      "source": [
        "# Stats"
      ],
      "metadata": {
        "id": "swYtIP4nqnrB"
      }
    },
    {
      "cell_type": "code",
      "source": [
        "mode = stats.mode(numbers)\n",
        "print(mode)"
      ],
      "metadata": {
        "colab": {
          "base_uri": "https://localhost:8080/"
        },
        "id": "8-rmZqBbqp67",
        "outputId": "6dc60ed5-4e95-4a3d-f0c5-86b0d4cca296"
      },
      "execution_count": null,
      "outputs": [
        {
          "output_type": "stream",
          "name": "stdout",
          "text": [
            "ModeResult(mode=np.int64(10), count=np.int64(2))\n"
          ]
        }
      ]
    },
    {
      "cell_type": "markdown",
      "source": [
        "# Variance, Standard Deviation and Percentile"
      ],
      "metadata": {
        "id": "pRUItNooq2_B"
      }
    },
    {
      "cell_type": "code",
      "source": [
        "variance = np.var(numbers)\n",
        "print(variance)"
      ],
      "metadata": {
        "colab": {
          "base_uri": "https://localhost:8080/"
        },
        "id": "f6zAm_N5q8B6",
        "outputId": "d30f5f09-8a88-4463-875e-340b252bbc6d"
      },
      "execution_count": null,
      "outputs": [
        {
          "output_type": "stream",
          "name": "stdout",
          "text": [
            "66.66666666666667\n"
          ]
        }
      ]
    },
    {
      "cell_type": "code",
      "source": [
        "standard_deviation = np.std(numbers)\n",
        "print(standard_deviation)"
      ],
      "metadata": {
        "colab": {
          "base_uri": "https://localhost:8080/"
        },
        "id": "b-CE4n2urIgO",
        "outputId": "c3cc3355-d3ab-464f-c068-81a39493ba30"
      },
      "execution_count": null,
      "outputs": [
        {
          "output_type": "stream",
          "name": "stdout",
          "text": [
            "8.16496580927726\n"
          ]
        }
      ]
    },
    {
      "cell_type": "code",
      "source": [
        "percentile = np.percentile(numbers, 50)\n",
        "print(percentile)"
      ],
      "metadata": {
        "colab": {
          "base_uri": "https://localhost:8080/"
        },
        "id": "7DyJai9EriZ4",
        "outputId": "7cd56990-28ab-4d22-bb3e-eea8663d0fa7"
      },
      "execution_count": null,
      "outputs": [
        {
          "output_type": "stream",
          "name": "stdout",
          "text": [
            "12.5\n"
          ]
        }
      ]
    }
  ]
}
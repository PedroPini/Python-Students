{
  "nbformat": 4,
  "nbformat_minor": 0,
  "metadata": {
    "colab": {
      "provenance": []
    },
    "kernelspec": {
      "name": "python3",
      "display_name": "Python 3"
    },
    "language_info": {
      "name": "python"
    }
  },
  "cells": [
    {
      "cell_type": "markdown",
      "source": [
        "# Data Types"
      ],
      "metadata": {
        "id": "llTHYzRBdvRL"
      }
    },
    {
      "cell_type": "markdown",
      "source": [
        "## There are three different data types in Machine learning\n",
        "\n",
        "\n",
        "1.   Numerical - numbers\n",
        "\n",
        "2.   Categorical - discrete belong to specific groups and cannot be measured against each other\n",
        "\n",
        "3. Ordinal - similar to categorical  but can measured against each other"
      ],
      "metadata": {
        "id": "HWRQtwdJd8BH"
      }
    },
    {
      "cell_type": "markdown",
      "source": [
        "### Install Pandas"
      ],
      "metadata": {
        "id": "W7lpP352eK4-"
      }
    },
    {
      "cell_type": "code",
      "execution_count": null,
      "metadata": {
        "colab": {
          "base_uri": "https://localhost:8080/"
        },
        "id": "RxLWhP4tdotX",
        "outputId": "4901a64e-0b32-481d-d010-7ac10ff2c1c1"
      },
      "outputs": [
        {
          "output_type": "stream",
          "name": "stdout",
          "text": [
            "Requirement already satisfied: pandas in /usr/local/lib/python3.11/dist-packages (2.2.2)\n",
            "Requirement already satisfied: numpy>=1.23.2 in /usr/local/lib/python3.11/dist-packages (from pandas) (2.0.2)\n",
            "Requirement already satisfied: python-dateutil>=2.8.2 in /usr/local/lib/python3.11/dist-packages (from pandas) (2.9.0.post0)\n",
            "Requirement already satisfied: pytz>=2020.1 in /usr/local/lib/python3.11/dist-packages (from pandas) (2025.2)\n",
            "Requirement already satisfied: tzdata>=2022.7 in /usr/local/lib/python3.11/dist-packages (from pandas) (2025.2)\n",
            "Requirement already satisfied: six>=1.5 in /usr/local/lib/python3.11/dist-packages (from python-dateutil>=2.8.2->pandas) (1.17.0)\n"
          ]
        }
      ],
      "source": [
        "%pip install pandas"
      ]
    },
    {
      "cell_type": "markdown",
      "source": [
        "# Import Pandas"
      ],
      "metadata": {
        "id": "MWk_sl7beZM2"
      }
    },
    {
      "cell_type": "code",
      "source": [
        "import pandas as pd"
      ],
      "metadata": {
        "id": "HK8QpG1_eb0Y"
      },
      "execution_count": null,
      "outputs": []
    },
    {
      "cell_type": "markdown",
      "source": [
        "# Numerical Dataset"
      ],
      "metadata": {
        "id": "6j1_YEQnem6G"
      }
    },
    {
      "cell_type": "code",
      "source": [
        "# Creating a sample Data Frame\n",
        "data = {'Age': [25, 30, 35, 40]}\n",
        "\n",
        "df = pd.DataFrame(data)\n",
        "\n",
        "print(df)"
      ],
      "metadata": {
        "colab": {
          "base_uri": "https://localhost:8080/"
        },
        "id": "-9pn47xCevya",
        "outputId": "06104de0-4063-426b-99fb-03c8aab9ce93"
      },
      "execution_count": null,
      "outputs": [
        {
          "output_type": "stream",
          "name": "stdout",
          "text": [
            "   Age\n",
            "0   25\n",
            "1   30\n",
            "2   35\n",
            "3   40\n"
          ]
        }
      ]
    },
    {
      "cell_type": "markdown",
      "source": [
        "# Continuous Data - not limited to integers"
      ],
      "metadata": {
        "id": "XqGiZDKGfZFu"
      }
    },
    {
      "cell_type": "code",
      "source": [
        "data[\"height\"] = [175.3, 180, 190, 212.5]\n",
        "data[\"salary\"] = [1500.5, 1988.25, 2500, 1888]\n",
        "\n",
        "df = pd.DataFrame(data)\n",
        "print(df)"
      ],
      "metadata": {
        "colab": {
          "base_uri": "https://localhost:8080/"
        },
        "id": "OxkqqvTBfiOu",
        "outputId": "a6aeefc4-af5c-4e46-ac1c-f01bd4c43772"
      },
      "execution_count": null,
      "outputs": [
        {
          "output_type": "stream",
          "name": "stdout",
          "text": [
            "   Age  height   salary\n",
            "0   25   175.3  1500.50\n",
            "1   30   180.0  1988.25\n",
            "2   35   190.0  2500.00\n",
            "3   40   212.5  1888.00\n"
          ]
        }
      ]
    },
    {
      "cell_type": "markdown",
      "source": [
        "# Categorical Dataset"
      ],
      "metadata": {
        "id": "APgZYLAIgFFc"
      }
    },
    {
      "cell_type": "code",
      "source": [
        "data[\"gender\"] = [\"Male\", \"Female\", \"Male\", \"Female\"]\n",
        "data[\"education\"] = [\"Bachelors\", \"High School\", \"PhD\", \"Bachelors\"]\n",
        "\n",
        "df = pd.DataFrame(data)\n",
        "print(df)"
      ],
      "metadata": {
        "colab": {
          "base_uri": "https://localhost:8080/"
        },
        "id": "_EPXwJ0MgJlJ",
        "outputId": "22b996cd-85f5-417b-b1b4-ffa870b6bb73"
      },
      "execution_count": null,
      "outputs": [
        {
          "output_type": "stream",
          "name": "stdout",
          "text": [
            "   Age  height   salary  gender    education\n",
            "0   25   175.3  1500.50    Male    Bachelors\n",
            "1   30   180.0  1988.25  Female  High School\n",
            "2   35   190.0  2500.00    Male          PhD\n",
            "3   40   212.5  1888.00  Female    Bachelors\n"
          ]
        }
      ]
    },
    {
      "cell_type": "markdown",
      "source": [
        "# Ordinal Dataset"
      ],
      "metadata": {
        "id": "pOAhNAZ2gz8-"
      }
    },
    {
      "cell_type": "code",
      "source": [
        "data[\"grade\"] = [\"A\", \"B\", \"A\", \"C\"]\n",
        "df = pd.DataFrame(data)\n",
        "print(df)"
      ],
      "metadata": {
        "colab": {
          "base_uri": "https://localhost:8080/"
        },
        "id": "g64xegNpg2Zy",
        "outputId": "5340b5db-2322-4295-b0f4-3fd37d69c408"
      },
      "execution_count": null,
      "outputs": [
        {
          "output_type": "stream",
          "name": "stdout",
          "text": [
            "   Age  height   salary  gender    education grade\n",
            "0   25   175.3  1500.50    Male    Bachelors     A\n",
            "1   30   180.0  1988.25  Female  High School     B\n",
            "2   35   190.0  2500.00    Male          PhD     A\n",
            "3   40   212.5  1888.00  Female    Bachelors     C\n"
          ]
        }
      ]
    },
    {
      "cell_type": "markdown",
      "source": [
        "# Our First Inbuilt Dataset from a library"
      ],
      "metadata": {
        "id": "Xgkyqp5Ki9BX"
      }
    },
    {
      "cell_type": "markdown",
      "source": [
        "### Install SKLEARN"
      ],
      "metadata": {
        "id": "XkWUKVoOjKhc"
      }
    },
    {
      "cell_type": "code",
      "source": [
        "%pip install sklearn"
      ],
      "metadata": {
        "colab": {
          "base_uri": "https://localhost:8080/"
        },
        "id": "VcAExIHgjIrd",
        "outputId": "c1ec4956-81f8-4cc0-fce3-34e19edeb62e"
      },
      "execution_count": null,
      "outputs": [
        {
          "output_type": "stream",
          "name": "stdout",
          "text": [
            "Collecting sklearn\n",
            "  Downloading sklearn-0.0.post12.tar.gz (2.6 kB)\n",
            "  \u001b[1;31merror\u001b[0m: \u001b[1msubprocess-exited-with-error\u001b[0m\n",
            "  \n",
            "  \u001b[31m×\u001b[0m \u001b[32mpython setup.py egg_info\u001b[0m did not run successfully.\n",
            "  \u001b[31m│\u001b[0m exit code: \u001b[1;36m1\u001b[0m\n",
            "  \u001b[31m╰─>\u001b[0m See above for output.\n",
            "  \n",
            "  \u001b[1;35mnote\u001b[0m: This error originates from a subprocess, and is likely not a problem with pip.\n",
            "  Preparing metadata (setup.py) ... \u001b[?25l\u001b[?25herror\n",
            "\u001b[1;31merror\u001b[0m: \u001b[1mmetadata-generation-failed\u001b[0m\n",
            "\n",
            "\u001b[31m×\u001b[0m Encountered error while generating package metadata.\n",
            "\u001b[31m╰─>\u001b[0m See above for output.\n",
            "\n",
            "\u001b[1;35mnote\u001b[0m: This is an issue with the package mentioned above, not pip.\n",
            "\u001b[1;36mhint\u001b[0m: See above for details.\n"
          ]
        }
      ]
    },
    {
      "cell_type": "markdown",
      "source": [
        "# Dealing with Iris Dataset"
      ],
      "metadata": {
        "id": "3hAqa-73jcvN"
      }
    },
    {
      "cell_type": "code",
      "source": [
        "from sklearn import datasets\n",
        "\n",
        "iris = datasets.load_iris()\n",
        "df = pd.DataFrame(iris.data, columns=iris.feature_names)\n",
        "print(df)"
      ],
      "metadata": {
        "colab": {
          "base_uri": "https://localhost:8080/"
        },
        "id": "VOBgn9txjgPk",
        "outputId": "4f17abe0-7f8b-4037-d42c-dff295be1a02"
      },
      "execution_count": null,
      "outputs": [
        {
          "output_type": "stream",
          "name": "stdout",
          "text": [
            "     sepal length (cm)  sepal width (cm)  petal length (cm)  petal width (cm)\n",
            "0                  5.1               3.5                1.4               0.2\n",
            "1                  4.9               3.0                1.4               0.2\n",
            "2                  4.7               3.2                1.3               0.2\n",
            "3                  4.6               3.1                1.5               0.2\n",
            "4                  5.0               3.6                1.4               0.2\n",
            "..                 ...               ...                ...               ...\n",
            "145                6.7               3.0                5.2               2.3\n",
            "146                6.3               2.5                5.0               1.9\n",
            "147                6.5               3.0                5.2               2.0\n",
            "148                6.2               3.4                5.4               2.3\n",
            "149                5.9               3.0                5.1               1.8\n",
            "\n",
            "[150 rows x 4 columns]\n"
          ]
        }
      ]
    }
  ]
}
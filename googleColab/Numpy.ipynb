{
  "nbformat": 4,
  "nbformat_minor": 0,
  "metadata": {
    "colab": {
      "provenance": [],
      "toc_visible": true
    },
    "kernelspec": {
      "name": "python3",
      "display_name": "Python 3"
    },
    "language_info": {
      "name": "python"
    }
  },
  "cells": [
    {
      "cell_type": "markdown",
      "source": [
        "# Numpy\n"
      ],
      "metadata": {
        "id": "VQeejC9WZCcj"
      }
    },
    {
      "cell_type": "markdown",
      "source": [
        "## 📌 What is NumPy?\n",
        "- NumPy is a Python library used for **numerical computing**.\n",
        "- It provides support for **multi-dimensional arrays** and **efficient mathematical operations**.\n",
        "- Core feature: the **ndarray** (N-dimensional array).\n",
        "- Faster and more memory-efficient than native Python lists."
      ],
      "metadata": {
        "id": "Tu_jmKYsayrV"
      }
    },
    {
      "cell_type": "markdown",
      "source": [
        "### Installing Numpy"
      ],
      "metadata": {
        "id": "TaXiRFGlbATO"
      }
    },
    {
      "cell_type": "code",
      "source": [
        "%pip install numpy #is the notebook-aware way to install packages"
      ],
      "metadata": {
        "colab": {
          "base_uri": "https://localhost:8080/"
        },
        "id": "xfOyCq0ubERj",
        "outputId": "a010522d-dbf1-4bf2-b1d1-fec8267a753d"
      },
      "execution_count": null,
      "outputs": [
        {
          "output_type": "stream",
          "name": "stdout",
          "text": [
            "Requirement already satisfied: numpy in /usr/local/lib/python3.11/dist-packages (2.0.2)\n"
          ]
        }
      ]
    },
    {
      "cell_type": "markdown",
      "source": [
        "OR"
      ],
      "metadata": {
        "id": "Q9gdINY5cCzb"
      }
    },
    {
      "cell_type": "code",
      "source": [
        "!pip install numpy # This might install outside the current Jupyter environment"
      ],
      "metadata": {
        "id": "0dZ8CFAabrhX"
      },
      "execution_count": null,
      "outputs": []
    },
    {
      "cell_type": "markdown",
      "source": [
        "## Creating Arrays"
      ],
      "metadata": {
        "id": "CYUbzdR5caN5"
      }
    },
    {
      "cell_type": "code",
      "source": [
        "import numpy as np\n",
        "\n",
        "# From a list\n",
        "a = np.array([1, 2, 3])\n",
        "print(\"Variable A: \", a)\n",
        "\n",
        "# 2D Array\n",
        "b = np.array([[1, 2, 3], [4, 5, 6]])\n",
        "print(\"2D Array \\n\", b)\n",
        "\n",
        "#Useful for creating placeholders\n",
        "print(f\"\\n ZEROS {np.zeros((2, 3))} \\n\")\n",
        "\n",
        "#Common in initializing weights in neural networks (before training begins).\n",
        "print(f\"ONES {np.ones((3, 3))} \\n\")\n",
        "\n",
        "#For creating sequences of numbers with specific intervals.\n",
        "print(f\"\\n  ARRANGE {np.arange(0, 10, 2)} \\n\")\n",
        "\n",
        "#ideal for graphing and interpolation.\n",
        "print(f\"LINSPACE {np.linspace(0, 1, 5)}\")"
      ],
      "metadata": {
        "colab": {
          "base_uri": "https://localhost:8080/"
        },
        "id": "42HZCeokcxSn",
        "outputId": "f12bdf03-223a-47c3-e8d1-7b303f4e7413"
      },
      "execution_count": null,
      "outputs": [
        {
          "output_type": "stream",
          "name": "stdout",
          "text": [
            "Variable A:  [1 2 3]\n",
            "2D Array \n",
            " [[1 2 3]\n",
            " [4 5 6]]\n",
            "\n",
            " ZEROS [[0. 0. 0.]\n",
            " [0. 0. 0.]] \n",
            "\n",
            "ONES [[1. 1. 1.]\n",
            " [1. 1. 1.]\n",
            " [1. 1. 1.]] \n",
            "\n",
            "\n",
            "  ARRANGE [0 2 4 6 8] \n",
            "\n",
            "LINSPACE [0.   0.25 0.5  0.75 1.  ]\n"
          ]
        }
      ]
    },
    {
      "cell_type": "markdown",
      "source": [
        "## Array Operations"
      ],
      "metadata": {
        "id": "IiB9cxHQgWm9"
      }
    },
    {
      "cell_type": "code",
      "source": [
        "a = np.array([1, 2, 3])\n",
        "b = np.array([4, 5, 6])\n",
        "\n",
        "print(a + b)\n",
        "print(a * b)\n",
        "\n",
        "# Scalar Product\n",
        "scalar = np.dot(a, b)\n",
        "print(scalar)\n",
        "\n",
        "mean = np.mean(a)\n",
        "print(\"MEAN value of array A is: \", mean)\n",
        "\n",
        "std = np.std(a)\n",
        "print(\"STD value of array A is: \", std)\n",
        "\n",
        "sum = np.sum(a)\n",
        "print(\"SUM value of array A is: \", sum)"
      ],
      "metadata": {
        "colab": {
          "base_uri": "https://localhost:8080/"
        },
        "id": "jlFnlEq9gHwv",
        "outputId": "9e74e6b0-1692-4f88-debf-2a1e58391db1"
      },
      "execution_count": null,
      "outputs": [
        {
          "output_type": "stream",
          "name": "stdout",
          "text": [
            "[5 7 9]\n",
            "[ 4 10 18]\n",
            "32\n",
            "MEAN value of array A is:  2.0\n",
            "STD value of array A is:  0.816496580927726\n",
            "SUM value of array A is:  6\n"
          ]
        }
      ]
    },
    {
      "cell_type": "markdown",
      "source": [
        "## Indexing and Slicing"
      ],
      "metadata": {
        "id": "lQgI8aYTiWVB"
      }
    },
    {
      "cell_type": "code",
      "source": [
        "a = np.array([10, 20, 30, 40])\n",
        "# print(a[1])\n",
        "# print(a[1:3])\n",
        "\n",
        "\n",
        "b = np.array([[1, 2, 3], [4, 5, 6]])\n",
        "print(b)\n",
        "print(\"Accessing value on first array: \", b[0, 2])\n",
        "\n",
        "print(b[:, 2])"
      ],
      "metadata": {
        "colab": {
          "base_uri": "https://localhost:8080/"
        },
        "id": "8YBWXePdim91",
        "outputId": "b31b90e6-62fc-4ac4-aa74-99c7529a8e32"
      },
      "execution_count": null,
      "outputs": [
        {
          "output_type": "stream",
          "name": "stdout",
          "text": [
            "[[1 2 3]\n",
            " [4 5 6]]\n",
            "Accessing value on first array:  3\n",
            "[3 6]\n"
          ]
        }
      ]
    },
    {
      "cell_type": "markdown",
      "source": [
        "## Broadcasting"
      ],
      "metadata": {
        "id": "SG4eNOtRmmwY"
      }
    },
    {
      "cell_type": "code",
      "source": [
        "a = np.array([1, 2, 3])\n",
        "print(a + 2)"
      ],
      "metadata": {
        "colab": {
          "base_uri": "https://localhost:8080/"
        },
        "id": "JqC1pMUGmout",
        "outputId": "a442c22a-cfdd-4149-e59b-90ca5cd87ef0"
      },
      "execution_count": null,
      "outputs": [
        {
          "output_type": "stream",
          "name": "stdout",
          "text": [
            "[3 4 5]\n"
          ]
        }
      ]
    },
    {
      "cell_type": "markdown",
      "source": [
        "## Pratical Examples"
      ],
      "metadata": {
        "id": "SMSZuThInJqJ"
      }
    },
    {
      "cell_type": "code",
      "source": [
        "# Temperature Conversion\n",
        "celsius = np.array([0, 20, 40])\n",
        "fahrenheit = celsius * 9/5 + 32\n",
        "print(\"Celsius to fahrenheit: \", fahrenheit)"
      ],
      "metadata": {
        "colab": {
          "base_uri": "https://localhost:8080/"
        },
        "id": "kEgKbm2ZnNUU",
        "outputId": "71527149-cc47-4415-a804-3a2ab5a83619"
      },
      "execution_count": null,
      "outputs": [
        {
          "output_type": "stream",
          "name": "stdout",
          "text": [
            "Celsius to fahrenheit:  [ 32.  68. 104.]\n"
          ]
        }
      ]
    },
    {
      "cell_type": "code",
      "source": [
        "# Random Numbers\n",
        "\n",
        "print(np.random.rand(5))"
      ],
      "metadata": {
        "colab": {
          "base_uri": "https://localhost:8080/"
        },
        "id": "mMWVBbsJn1HD",
        "outputId": "4d57ccd5-4e8d-47a6-abe4-7e1c2109001a"
      },
      "execution_count": null,
      "outputs": [
        {
          "output_type": "stream",
          "name": "stdout",
          "text": [
            "[0.04628554 0.0848717  0.70194822 0.63422427 0.17164856]\n"
          ]
        }
      ]
    },
    {
      "cell_type": "markdown",
      "source": [
        "### Creating a 3X3 identity Matrix"
      ],
      "metadata": {
        "id": "v4-O8yGXoC_E"
      }
    },
    {
      "cell_type": "code",
      "source": [
        "identity_matrix = np.eye(3)\n",
        "print(f\"3X3 Identity Matrix: \\n\", identity_matrix)"
      ],
      "metadata": {
        "colab": {
          "base_uri": "https://localhost:8080/"
        },
        "id": "TG2jPGbAoKxc",
        "outputId": "60cc87e2-38ac-4357-efdd-a9134106cba3"
      },
      "execution_count": null,
      "outputs": [
        {
          "output_type": "stream",
          "name": "stdout",
          "text": [
            "3X3 Identity Matrix: \n",
            " [[1. 0. 0.]\n",
            " [0. 1. 0.]\n",
            " [0. 0. 1.]]\n"
          ]
        }
      ]
    },
    {
      "cell_type": "markdown",
      "source": [
        "### Generate 100 random number and find their mean and standard deviation"
      ],
      "metadata": {
        "id": "PWOo8HYMomZt"
      }
    },
    {
      "cell_type": "code",
      "source": [
        "random_numbers = np.random.rand(100)\n",
        "mean = np.mean(random_numbers)\n",
        "std_dev = np.std(random_numbers)\n",
        "\n",
        "print(\"\\nGenerated 100 random numbers:\")\n",
        "print(random_numbers)\n",
        "print(f\"\\nMean: {mean}\")\n",
        "print(f\"Standard Deviation: {std_dev}\")"
      ],
      "metadata": {
        "colab": {
          "base_uri": "https://localhost:8080/"
        },
        "id": "3g1SDQRZosjW",
        "outputId": "26309c50-1760-405b-bd24-b440591a99b0"
      },
      "execution_count": null,
      "outputs": [
        {
          "output_type": "stream",
          "name": "stdout",
          "text": [
            "\n",
            "Generated 100 random numbers:\n",
            "[0.656238   0.26624172 0.89300179 0.63220518 0.17554142 0.31233854\n",
            " 0.44320315 0.30979523 0.94187727 0.68977986 0.50698644 0.84011205\n",
            " 0.85978653 0.83205196 0.07726296 0.34497939 0.78001109 0.84147228\n",
            " 0.64624306 0.8966149  0.11140934 0.24783332 0.21248595 0.9109626\n",
            " 0.64451583 0.83740281 0.97976415 0.16749601 0.28523612 0.44567537\n",
            " 0.91819005 0.58129861 0.87042197 0.73989009 0.06102486 0.78680317\n",
            " 0.88186328 0.77212652 0.00206431 0.62164463 0.82082318 0.89905814\n",
            " 0.97786894 0.21115934 0.6064154  0.64007162 0.18656151 0.60796385\n",
            " 0.02268699 0.87824564 0.91489893 0.83705126 0.49437275 0.79858545\n",
            " 0.01343407 0.40200658 0.50683668 0.9809499  0.23868435 0.01768728\n",
            " 0.30616996 0.23343579 0.96812481 0.70707504 0.3785578  0.56743382\n",
            " 0.00418587 0.53890013 0.21168098 0.05699943 0.78149677 0.12580804\n",
            " 0.23389579 0.93232875 0.56258813 0.29113848 0.37639052 0.52384451\n",
            " 0.80575819 0.49401611 0.51076594 0.72263542 0.64997605 0.15564899\n",
            " 0.88286181 0.00211842 0.73649778 0.00724791 0.94156266 0.69506453\n",
            " 0.74408985 0.50683209 0.50526845 0.58810227 0.55612957 0.89951116\n",
            " 0.85367767 0.56742798 0.38000352 0.3773587 ]\n",
            "\n",
            "Mean: 0.5446182336161666\n",
            "Standard Deviation: 0.29690872382145805\n"
          ]
        }
      ]
    },
    {
      "cell_type": "markdown",
      "source": [],
      "metadata": {
        "id": "EYMwdHDYpNiD"
      }
    },
    {
      "cell_type": "markdown",
      "source": [
        "# ❓ Why Use NumPy Instead of Plain Python?\n",
        "\n",
        "| Feature             | Python Lists         | NumPy Arrays         |\n",
        "|---------------------|----------------------|----------------------|\n",
        "| Speed               | Slow                 | Very fast            |\n",
        "| Syntax              | Verbose              | Clean & vectorized   |\n",
        "| Multi-Dimensional   | Awkward              | Easy and native      |\n",
        "| Math Functions      | Manual / custom      | Built-in             |\n",
        "| Memory Use          | High                 | Efficient            |\n"
      ],
      "metadata": {
        "id": "U-cscidxtg9K"
      }
    },
    {
      "cell_type": "markdown",
      "source": [
        "## Speed Comparison"
      ],
      "metadata": {
        "id": "5WFLha7tuyAU"
      }
    },
    {
      "cell_type": "code",
      "source": [
        "import time\n",
        "# Python way\n",
        "a = list(range(1_000_000)) # 1_000_000 is 1 million\n",
        "start = time.time()\n",
        "b = [x * 2 for x in a]\n",
        "print(\"Python List: \", time.time() - start)\n",
        "\n",
        "#Numpy\n",
        "a = np.arange(1_000_000)\n",
        "start = time.time()\n",
        "b = a * 2\n",
        "print(\"NumPy:\", time.time() - start)"
      ],
      "metadata": {
        "colab": {
          "base_uri": "https://localhost:8080/"
        },
        "id": "Qk3AaEQVu4HV",
        "outputId": "c2287a9d-d834-4702-b7c0-774f485e6e92"
      },
      "execution_count": null,
      "outputs": [
        {
          "output_type": "stream",
          "name": "stdout",
          "text": [
            "Python List:  0.05382347106933594\n",
            "NumPy: 0.014894962310791016\n"
          ]
        }
      ]
    },
    {
      "cell_type": "markdown",
      "source": [
        "# Cleaner Syntax"
      ],
      "metadata": {
        "id": "FfQ7Vp3Fw2ay"
      }
    },
    {
      "cell_type": "code",
      "source": [
        "# Python\n",
        "a = [1, 2, 3]\n",
        "b = [x + 5 for x in a]\n",
        "\n",
        "# NumPy\n",
        "a = np.array([1, 2, 3])\n",
        "b = a + 5"
      ],
      "metadata": {
        "id": "ylRCyX1Xw4WS"
      },
      "execution_count": null,
      "outputs": []
    },
    {
      "cell_type": "markdown",
      "source": [
        "## Memory Efficient"
      ],
      "metadata": {
        "id": "JSGFYaECxNfU"
      }
    },
    {
      "cell_type": "code",
      "source": [
        "import sys\n",
        "\n",
        "py_list = list(range(1000000))\n",
        "np_array = np.arange(1000000)\n",
        "\n",
        "print(sys.getsizeof(py_list))   # Larger\n",
        "print(np_array.nbytes)"
      ],
      "metadata": {
        "colab": {
          "base_uri": "https://localhost:8080/"
        },
        "id": "sk43rDX9xPcd",
        "outputId": "b7fd657d-32d0-4e9b-ffb6-90bfeb8c155a"
      },
      "execution_count": null,
      "outputs": [
        {
          "output_type": "stream",
          "name": "stdout",
          "text": [
            "8000056\n",
            "8000000\n"
          ]
        }
      ]
    }
  ]
}
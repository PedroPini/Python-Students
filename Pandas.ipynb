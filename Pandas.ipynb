{
  "nbformat": 4,
  "nbformat_minor": 0,
  "metadata": {
    "colab": {
      "provenance": []
    },
    "kernelspec": {
      "name": "python3",
      "display_name": "Python 3"
    },
    "language_info": {
      "name": "python"
    }
  },
  "cells": [
    {
      "cell_type": "markdown",
      "source": [
        "## Pandas"
      ],
      "metadata": {
        "id": "LDxiWWncyZAz"
      }
    },
    {
      "cell_type": "markdown",
      "source": [
        "## Installation"
      ],
      "metadata": {
        "id": "0Jt9ZFPKycmm"
      }
    },
    {
      "cell_type": "code",
      "execution_count": null,
      "metadata": {
        "colab": {
          "base_uri": "https://localhost:8080/"
        },
        "id": "eb3VHwyxx0nO",
        "outputId": "b6f6d716-9865-49ba-d74d-a76428a15793"
      },
      "outputs": [
        {
          "output_type": "stream",
          "name": "stdout",
          "text": [
            "Requirement already satisfied: pandas in /usr/local/lib/python3.11/dist-packages (2.2.2)\n",
            "Requirement already satisfied: numpy>=1.23.2 in /usr/local/lib/python3.11/dist-packages (from pandas) (2.0.2)\n",
            "Requirement already satisfied: python-dateutil>=2.8.2 in /usr/local/lib/python3.11/dist-packages (from pandas) (2.9.0.post0)\n",
            "Requirement already satisfied: pytz>=2020.1 in /usr/local/lib/python3.11/dist-packages (from pandas) (2025.2)\n",
            "Requirement already satisfied: tzdata>=2022.7 in /usr/local/lib/python3.11/dist-packages (from pandas) (2025.2)\n",
            "Requirement already satisfied: six>=1.5 in /usr/local/lib/python3.11/dist-packages (from python-dateutil>=2.8.2->pandas) (1.17.0)\n"
          ]
        }
      ],
      "source": [
        "%pip install pandas"
      ]
    },
    {
      "cell_type": "markdown",
      "source": [
        "## Ways of importing a file in google Colab"
      ],
      "metadata": {
        "id": "v95w5kgp0DME"
      }
    },
    {
      "cell_type": "markdown",
      "source": [
        "Importing File directly into google Colab\n",
        "\n",
        "![Pasted image 20250522094754.png](data:image/png;base64,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)"
      ],
      "metadata": {
        "id": "nPQH89KC04wB"
      }
    },
    {
      "cell_type": "code",
      "source": [
        "import pandas as pd\n",
        "\n",
        "path = '/content/students_grades.csv'\n",
        "\n",
        "df = pd.read_csv(path)\n",
        "print(df.head(10))"
      ],
      "metadata": {
        "colab": {
          "base_uri": "https://localhost:8080/"
        },
        "id": "jHgYJJMA03Hq",
        "outputId": "9350f10b-b6b5-4b65-f590-dd605d97d222"
      },
      "execution_count": null,
      "outputs": [
        {
          "output_type": "stream",
          "name": "stdout",
          "text": [
            "   student_id           name  subject  grade\n",
            "0           1  Alice Johnson     Math     85\n",
            "1           2      Bob Smith     Math     78\n",
            "2           3    Charlie Lee     Math     92\n",
            "3           4  Alice Johnson  Science     88\n",
            "4           5      Bob Smith  Science     75\n",
            "5           6    Charlie Lee  Science     95\n",
            "6           7  Alice Johnson  History     90\n",
            "7           8      Bob Smith  History     70\n",
            "8           9    Charlie Lee  History     85\n"
          ]
        }
      ]
    },
    {
      "cell_type": "markdown",
      "source": [
        "## Import Using Code"
      ],
      "metadata": {
        "id": "Qy8mmPyz230P"
      }
    },
    {
      "cell_type": "code",
      "source": [
        "from google.colab import files\n",
        "uploaded = files.upload()\n",
        "\n",
        "import io\n",
        "\n",
        "filename = list(uploaded.keys())[0]\n",
        "print(filename)\n",
        "df = pd.read_csv(io.BytesIO(uploaded[filename]))\n",
        "print(df)"
      ],
      "metadata": {
        "colab": {
          "base_uri": "https://localhost:8080/",
          "height": 264
        },
        "id": "pX_GS5Gp27ZV",
        "outputId": "5f402fb1-7061-4458-da57-c9670b3e6c7d"
      },
      "execution_count": null,
      "outputs": [
        {
          "output_type": "display_data",
          "data": {
            "text/plain": [
              "<IPython.core.display.HTML object>"
            ],
            "text/html": [
              "\n",
              "     <input type=\"file\" id=\"files-3f30bc0a-bee7-4862-ae6b-ddcd9c6b0137\" name=\"files[]\" multiple disabled\n",
              "        style=\"border:none\" />\n",
              "     <output id=\"result-3f30bc0a-bee7-4862-ae6b-ddcd9c6b0137\">\n",
              "      Upload widget is only available when the cell has been executed in the\n",
              "      current browser session. Please rerun this cell to enable.\n",
              "      </output>\n",
              "      <script>// Copyright 2017 Google LLC\n",
              "//\n",
              "// Licensed under the Apache License, Version 2.0 (the \"License\");\n",
              "// you may not use this file except in compliance with the License.\n",
              "// You may obtain a copy of the License at\n",
              "//\n",
              "//      http://www.apache.org/licenses/LICENSE-2.0\n",
              "//\n",
              "// Unless required by applicable law or agreed to in writing, software\n",
              "// distributed under the License is distributed on an \"AS IS\" BASIS,\n",
              "// WITHOUT WARRANTIES OR CONDITIONS OF ANY KIND, either express or implied.\n",
              "// See the License for the specific language governing permissions and\n",
              "// limitations under the License.\n",
              "\n",
              "/**\n",
              " * @fileoverview Helpers for google.colab Python module.\n",
              " */\n",
              "(function(scope) {\n",
              "function span(text, styleAttributes = {}) {\n",
              "  const element = document.createElement('span');\n",
              "  element.textContent = text;\n",
              "  for (const key of Object.keys(styleAttributes)) {\n",
              "    element.style[key] = styleAttributes[key];\n",
              "  }\n",
              "  return element;\n",
              "}\n",
              "\n",
              "// Max number of bytes which will be uploaded at a time.\n",
              "const MAX_PAYLOAD_SIZE = 100 * 1024;\n",
              "\n",
              "function _uploadFiles(inputId, outputId) {\n",
              "  const steps = uploadFilesStep(inputId, outputId);\n",
              "  const outputElement = document.getElementById(outputId);\n",
              "  // Cache steps on the outputElement to make it available for the next call\n",
              "  // to uploadFilesContinue from Python.\n",
              "  outputElement.steps = steps;\n",
              "\n",
              "  return _uploadFilesContinue(outputId);\n",
              "}\n",
              "\n",
              "// This is roughly an async generator (not supported in the browser yet),\n",
              "// where there are multiple asynchronous steps and the Python side is going\n",
              "// to poll for completion of each step.\n",
              "// This uses a Promise to block the python side on completion of each step,\n",
              "// then passes the result of the previous step as the input to the next step.\n",
              "function _uploadFilesContinue(outputId) {\n",
              "  const outputElement = document.getElementById(outputId);\n",
              "  const steps = outputElement.steps;\n",
              "\n",
              "  const next = steps.next(outputElement.lastPromiseValue);\n",
              "  return Promise.resolve(next.value.promise).then((value) => {\n",
              "    // Cache the last promise value to make it available to the next\n",
              "    // step of the generator.\n",
              "    outputElement.lastPromiseValue = value;\n",
              "    return next.value.response;\n",
              "  });\n",
              "}\n",
              "\n",
              "/**\n",
              " * Generator function which is called between each async step of the upload\n",
              " * process.\n",
              " * @param {string} inputId Element ID of the input file picker element.\n",
              " * @param {string} outputId Element ID of the output display.\n",
              " * @return {!Iterable<!Object>} Iterable of next steps.\n",
              " */\n",
              "function* uploadFilesStep(inputId, outputId) {\n",
              "  const inputElement = document.getElementById(inputId);\n",
              "  inputElement.disabled = false;\n",
              "\n",
              "  const outputElement = document.getElementById(outputId);\n",
              "  outputElement.innerHTML = '';\n",
              "\n",
              "  const pickedPromise = new Promise((resolve) => {\n",
              "    inputElement.addEventListener('change', (e) => {\n",
              "      resolve(e.target.files);\n",
              "    });\n",
              "  });\n",
              "\n",
              "  const cancel = document.createElement('button');\n",
              "  inputElement.parentElement.appendChild(cancel);\n",
              "  cancel.textContent = 'Cancel upload';\n",
              "  const cancelPromise = new Promise((resolve) => {\n",
              "    cancel.onclick = () => {\n",
              "      resolve(null);\n",
              "    };\n",
              "  });\n",
              "\n",
              "  // Wait for the user to pick the files.\n",
              "  const files = yield {\n",
              "    promise: Promise.race([pickedPromise, cancelPromise]),\n",
              "    response: {\n",
              "      action: 'starting',\n",
              "    }\n",
              "  };\n",
              "\n",
              "  cancel.remove();\n",
              "\n",
              "  // Disable the input element since further picks are not allowed.\n",
              "  inputElement.disabled = true;\n",
              "\n",
              "  if (!files) {\n",
              "    return {\n",
              "      response: {\n",
              "        action: 'complete',\n",
              "      }\n",
              "    };\n",
              "  }\n",
              "\n",
              "  for (const file of files) {\n",
              "    const li = document.createElement('li');\n",
              "    li.append(span(file.name, {fontWeight: 'bold'}));\n",
              "    li.append(span(\n",
              "        `(${file.type || 'n/a'}) - ${file.size} bytes, ` +\n",
              "        `last modified: ${\n",
              "            file.lastModifiedDate ? file.lastModifiedDate.toLocaleDateString() :\n",
              "                                    'n/a'} - `));\n",
              "    const percent = span('0% done');\n",
              "    li.appendChild(percent);\n",
              "\n",
              "    outputElement.appendChild(li);\n",
              "\n",
              "    const fileDataPromise = new Promise((resolve) => {\n",
              "      const reader = new FileReader();\n",
              "      reader.onload = (e) => {\n",
              "        resolve(e.target.result);\n",
              "      };\n",
              "      reader.readAsArrayBuffer(file);\n",
              "    });\n",
              "    // Wait for the data to be ready.\n",
              "    let fileData = yield {\n",
              "      promise: fileDataPromise,\n",
              "      response: {\n",
              "        action: 'continue',\n",
              "      }\n",
              "    };\n",
              "\n",
              "    // Use a chunked sending to avoid message size limits. See b/62115660.\n",
              "    let position = 0;\n",
              "    do {\n",
              "      const length = Math.min(fileData.byteLength - position, MAX_PAYLOAD_SIZE);\n",
              "      const chunk = new Uint8Array(fileData, position, length);\n",
              "      position += length;\n",
              "\n",
              "      const base64 = btoa(String.fromCharCode.apply(null, chunk));\n",
              "      yield {\n",
              "        response: {\n",
              "          action: 'append',\n",
              "          file: file.name,\n",
              "          data: base64,\n",
              "        },\n",
              "      };\n",
              "\n",
              "      let percentDone = fileData.byteLength === 0 ?\n",
              "          100 :\n",
              "          Math.round((position / fileData.byteLength) * 100);\n",
              "      percent.textContent = `${percentDone}% done`;\n",
              "\n",
              "    } while (position < fileData.byteLength);\n",
              "  }\n",
              "\n",
              "  // All done.\n",
              "  yield {\n",
              "    response: {\n",
              "      action: 'complete',\n",
              "    }\n",
              "  };\n",
              "}\n",
              "\n",
              "scope.google = scope.google || {};\n",
              "scope.google.colab = scope.google.colab || {};\n",
              "scope.google.colab._files = {\n",
              "  _uploadFiles,\n",
              "  _uploadFilesContinue,\n",
              "};\n",
              "})(self);\n",
              "</script> "
            ]
          },
          "metadata": {}
        },
        {
          "output_type": "stream",
          "name": "stdout",
          "text": [
            "Saving students_grades2.csv to students_grades2 (1).csv\n",
            "students_grades2 (1).csv\n",
            "   student_id           name  subject  grade\n",
            "0           1  Alice Johnson     Math     85\n",
            "1           2      Bob Smith     Math     78\n",
            "2           3    Charlie Lee     Math     92\n",
            "3           4  Alice Johnson  Science     88\n",
            "4           5      Bob Smith  Science     75\n",
            "5           6    Charlie Lee  Science     95\n",
            "6           7  Alice Johnson  History     90\n",
            "7           8      Bob Smith  History     70\n",
            "8           9    Charlie Lee  History     85\n"
          ]
        }
      ]
    },
    {
      "cell_type": "markdown",
      "source": [
        "## Understanding common Panda functions"
      ],
      "metadata": {
        "id": "bSKKU8zL5VIA"
      }
    },
    {
      "cell_type": "code",
      "source": [
        "path = '/content/students_grades.csv'\n",
        "\n",
        "df = pd.read_csv(path) # Read a CSV\n",
        "print(df.head(10)) # Default return 5 rows\n",
        "\n",
        "# print(df.info()) # Data types & null\n",
        "\n",
        "# print(df.describe()) # Summarise stats\n",
        "\n",
        "print(df.shape) # Return Rows and columns count\n",
        "\n",
        "\n",
        "\n"
      ],
      "metadata": {
        "colab": {
          "base_uri": "https://localhost:8080/"
        },
        "id": "WtAUz-JL5bSV",
        "outputId": "7a24038e-83d5-4ae3-e5cb-2332f86db150"
      },
      "execution_count": null,
      "outputs": [
        {
          "output_type": "stream",
          "name": "stdout",
          "text": [
            "   student_id           name  subject  grade\n",
            "0           1  Alice Johnson     Math     85\n",
            "1           2      Bob Smith     Math     78\n",
            "2           3    Charlie Lee     Math     92\n",
            "3           4  Alice Johnson  Science     88\n",
            "4           5      Bob Smith  Science     75\n",
            "5           6    Charlie Lee  Science     95\n",
            "6           7  Alice Johnson  History     90\n",
            "7           8      Bob Smith  History     70\n",
            "8           9    Charlie Lee  History     85\n",
            "(9, 4)\n"
          ]
        }
      ]
    },
    {
      "cell_type": "markdown",
      "source": [
        "## Accessing the CSV Data"
      ],
      "metadata": {
        "id": "3jJQ9fZj6sfE"
      }
    },
    {
      "cell_type": "code",
      "source": [
        "path = '/content/students_grades.csv'\n",
        "\n",
        "df = pd.read_csv(path) # Read a CSV\n",
        "#print(df['name']) # Selecting a single column\n",
        "#print(df[['subject', 'grade']]) #. Selecting multiple columns\n",
        "\n",
        "# print(df.iloc[0]) # Row by position\n",
        "#print(df.loc[:,'name']) # Row by label/index\n",
        "\n",
        "print(df.iloc[0:5]) # Slice rows\n",
        "\n"
      ],
      "metadata": {
        "colab": {
          "base_uri": "https://localhost:8080/"
        },
        "id": "PLWH0Z3B6yv-",
        "outputId": "e8c914ff-8df9-44d7-b409-746ce5b38190"
      },
      "execution_count": null,
      "outputs": [
        {
          "output_type": "stream",
          "name": "stdout",
          "text": [
            "   student_id           name  subject  grade\n",
            "0           1  Alice Johnson     Math     85\n",
            "1           2      Bob Smith     Math     78\n",
            "2           3    Charlie Lee     Math     92\n",
            "3           4  Alice Johnson  Science     88\n",
            "4           5      Bob Smith  Science     75\n"
          ]
        }
      ]
    },
    {
      "cell_type": "markdown",
      "source": [
        "## Filtering Rows"
      ],
      "metadata": {
        "id": "_sm0vzt08gsl"
      }
    },
    {
      "cell_type": "code",
      "source": [
        "path = '/content/students_grades.csv'\n",
        "\n",
        "df = pd.read_csv(path)\n",
        "\n",
        "print(df[df['subject'] == 'Math'])"
      ],
      "metadata": {
        "colab": {
          "base_uri": "https://localhost:8080/"
        },
        "id": "fIkGiUKk8iib",
        "outputId": "ea4f7c70-ffff-4940-baae-13e6afb5ffe3"
      },
      "execution_count": null,
      "outputs": [
        {
          "output_type": "stream",
          "name": "stdout",
          "text": [
            "   student_id           name subject  grade\n",
            "0           1  Alice Johnson    Math     85\n",
            "1           2      Bob Smith    Math     78\n",
            "2           3    Charlie Lee    Math     92\n"
          ]
        }
      ]
    },
    {
      "cell_type": "markdown",
      "source": [
        "# Creating and modifying Columns"
      ],
      "metadata": {
        "id": "i8168OXyNhRt"
      }
    },
    {
      "cell_type": "code",
      "source": [
        "#df['new_col'] = df['subject'] + df['name']\n",
        "\n",
        "avg_per_student = df.groupby('subject')['grade'].transform('mean')\n",
        "\n",
        "df['average'] = avg_per_student\n",
        "\n",
        "print(df)\n",
        "\n"
      ],
      "metadata": {
        "colab": {
          "base_uri": "https://localhost:8080/"
        },
        "id": "iVDWctOcNmfu",
        "outputId": "b6002880-b84e-4856-dbca-1a1990c895c1"
      },
      "execution_count": null,
      "outputs": [
        {
          "output_type": "stream",
          "name": "stdout",
          "text": [
            "   student_id           name  subject  grade    average\n",
            "0           1  Alice Johnson     Math     85  85.000000\n",
            "1           2      Bob Smith     Math     78  85.000000\n",
            "2           3    Charlie Lee     Math     92  85.000000\n",
            "3           4  Alice Johnson  Science     88  86.000000\n",
            "4           5      Bob Smith  Science     75  86.000000\n",
            "5           6    Charlie Lee  Science     95  86.000000\n",
            "6           7  Alice Johnson  History     90  81.666667\n",
            "7           8      Bob Smith  History     70  81.666667\n",
            "8           9    Charlie Lee  History     85  81.666667\n"
          ]
        }
      ]
    },
    {
      "cell_type": "markdown",
      "source": [
        "# Aggregating and Grouping"
      ],
      "metadata": {
        "id": "LH9wyu8CPH9t"
      }
    },
    {
      "cell_type": "code",
      "source": [
        "print(df.groupby('subject')['grade'].agg(['min', 'max']))"
      ],
      "metadata": {
        "colab": {
          "base_uri": "https://localhost:8080/"
        },
        "id": "B2DUPiOXPM3D",
        "outputId": "b155c047-64cc-45e4-d199-29a3eed65934"
      },
      "execution_count": null,
      "outputs": [
        {
          "output_type": "stream",
          "name": "stdout",
          "text": [
            "         min  max\n",
            "subject          \n",
            "History   70   90\n",
            "Math      78   92\n",
            "Science   75   95\n"
          ]
        }
      ]
    },
    {
      "cell_type": "markdown",
      "source": [
        "# Sorting"
      ],
      "metadata": {
        "id": "eRckdAmfTF-P"
      }
    },
    {
      "cell_type": "code",
      "source": [
        "print(df.sort_values(by='subject', ascending=True)  )"
      ],
      "metadata": {
        "colab": {
          "base_uri": "https://localhost:8080/"
        },
        "id": "WkFP9mCDTIGR",
        "outputId": "0cc7bb66-8258-4172-a48f-95c3066f6c78"
      },
      "execution_count": null,
      "outputs": [
        {
          "output_type": "stream",
          "name": "stdout",
          "text": [
            "   student_id           name  subject  grade    average\n",
            "6           7  Alice Johnson  History     90  81.666667\n",
            "7           8      Bob Smith  History     70  81.666667\n",
            "8           9    Charlie Lee  History     85  81.666667\n",
            "0           1  Alice Johnson     Math     85  85.000000\n",
            "1           2      Bob Smith     Math     78  85.000000\n",
            "2           3    Charlie Lee     Math     92  85.000000\n",
            "3           4  Alice Johnson  Science     88  86.000000\n",
            "4           5      Bob Smith  Science     75  86.000000\n",
            "5           6    Charlie Lee  Science     95  86.000000\n"
          ]
        }
      ]
    },
    {
      "cell_type": "markdown",
      "source": [
        "# Handle Missing Data"
      ],
      "metadata": {
        "id": "VrjY068ITWrp"
      }
    },
    {
      "cell_type": "code",
      "source": [
        "df['average'] = None\n",
        "\n",
        "print(df)"
      ],
      "metadata": {
        "colab": {
          "base_uri": "https://localhost:8080/"
        },
        "id": "93_ICFsGTbsQ",
        "outputId": "52c7e464-178d-4443-ff83-ebfb471f525b"
      },
      "execution_count": null,
      "outputs": [
        {
          "output_type": "stream",
          "name": "stdout",
          "text": [
            "   student_id           name  subject  grade average\n",
            "0           1  Alice Johnson     Math     85    None\n",
            "1           2      Bob Smith     Math     78    None\n",
            "2           3    Charlie Lee     Math     92    None\n",
            "3           4  Alice Johnson  Science     88    None\n",
            "4           5      Bob Smith  Science     75    None\n",
            "5           6    Charlie Lee  Science     95    None\n",
            "6           7  Alice Johnson  History     90    None\n",
            "7           8      Bob Smith  History     70    None\n",
            "8           9    Charlie Lee  History     85    None\n"
          ]
        }
      ]
    },
    {
      "cell_type": "code",
      "source": [
        "print(df.isnull().sum())\n",
        "#df.dropna()                        # Drop rows with nulls\n",
        "#df.fillna(0)                     # Fill missing with 0\n",
        "print(df)"
      ],
      "metadata": {
        "colab": {
          "base_uri": "https://localhost:8080/"
        },
        "id": "owIRudVnTzD6",
        "outputId": "07aa3d91-a64c-4082-84df-c6d2c74f0694"
      },
      "execution_count": null,
      "outputs": [
        {
          "output_type": "stream",
          "name": "stdout",
          "text": [
            "student_id    0\n",
            "name          0\n",
            "subject       0\n",
            "grade         0\n",
            "average       9\n",
            "dtype: int64\n",
            "   student_id           name  subject  grade average\n",
            "0           1  Alice Johnson     Math     85    None\n",
            "1           2      Bob Smith     Math     78    None\n",
            "2           3    Charlie Lee     Math     92    None\n",
            "3           4  Alice Johnson  Science     88    None\n",
            "4           5      Bob Smith  Science     75    None\n",
            "5           6    Charlie Lee  Science     95    None\n",
            "6           7  Alice Johnson  History     90    None\n",
            "7           8      Bob Smith  History     70    None\n",
            "8           9    Charlie Lee  History     85    None\n"
          ]
        }
      ]
    },
    {
      "cell_type": "markdown",
      "source": [
        "# Merge and Join"
      ],
      "metadata": {
        "id": "shEEx5wpUmwg"
      }
    },
    {
      "cell_type": "code",
      "source": [
        "path1 = '/content/students_grades.csv'\n",
        "path2 = '/content/students_grades2.csv'\n",
        "df1 = pd.read_csv(path1)\n",
        "df2 = pd.read_csv(path2)\n",
        "\n",
        "print(pd.merge(df1, df2, on='student_id')) #merge by column\n",
        "#print(df1.join(df2, how='left'))          # Join by index"
      ],
      "metadata": {
        "colab": {
          "base_uri": "https://localhost:8080/"
        },
        "id": "eTABIBdjUqND",
        "outputId": "a3c6e662-d424-4ffa-b606-2470af3a9a56"
      },
      "execution_count": null,
      "outputs": [
        {
          "output_type": "stream",
          "name": "stdout",
          "text": [
            "   student_id         name_x subject_x  grade_x         name_y subject_y  \\\n",
            "0           1  Alice Johnson      Math       85  Alice Johnson      Math   \n",
            "1           2      Bob Smith      Math       78      Bob Smith      Math   \n",
            "2           3    Charlie Lee      Math       92    Charlie Lee      Math   \n",
            "3           4  Alice Johnson   Science       88  Alice Johnson   Science   \n",
            "4           5      Bob Smith   Science       75      Bob Smith   Science   \n",
            "5           6    Charlie Lee   Science       95    Charlie Lee   Science   \n",
            "6           7  Alice Johnson   History       90  Alice Johnson   History   \n",
            "7           8      Bob Smith   History       70      Bob Smith   History   \n",
            "8           9    Charlie Lee   History       85    Charlie Lee   History   \n",
            "\n",
            "   grade_y  \n",
            "0       85  \n",
            "1       78  \n",
            "2       92  \n",
            "3       88  \n",
            "4       75  \n",
            "5       95  \n",
            "6       90  \n",
            "7       70  \n",
            "8       85  \n"
          ]
        }
      ]
    },
    {
      "cell_type": "markdown",
      "source": [
        "# Exporting Data"
      ],
      "metadata": {
        "id": "7ocDIsg6V23u"
      }
    },
    {
      "cell_type": "code",
      "source": [
        "df.to_csv('cleaned.csv', index=False)"
      ],
      "metadata": {
        "id": "eTp5XbsPV44d"
      },
      "execution_count": null,
      "outputs": []
    }
  ]
}